{
 "cells": [
  {
   "cell_type": "code",
   "execution_count": 45,
   "metadata": {},
   "outputs": [],
   "source": [
    "import numpy as np\n",
    "from sklearn.datasets import load_digits\n",
    "from sklearn.model_selection import train_test_split\n",
    "from sklearn.ensemble import RandomForestClassifier\n",
    "from sklearn import tree\n",
    "from sklearn.metrics import confusion_matrix\n",
    "from sklearn.preprocessing import StandardScaler\n",
    "from sklearn.cluster import KMeans\n",
    "import matplotlib.pyplot as plt\n",
    "from sklearn.metrics import classification_report"
   ]
  },
  {
   "cell_type": "code",
   "execution_count": 27,
   "metadata": {},
   "outputs": [],
   "source": [
    "data = load_digits()"
   ]
  },
  {
   "cell_type": "markdown",
   "metadata": {},
   "source": [
    "### Separamos en train y test"
   ]
  },
  {
   "cell_type": "code",
   "execution_count": 28,
   "metadata": {},
   "outputs": [],
   "source": [
    "X_train, X_test, y_train, y_test = train_test_split(data.data, data.target)"
   ]
  },
  {
   "cell_type": "markdown",
   "metadata": {},
   "source": [
    "### Escalamos"
   ]
  },
  {
   "cell_type": "code",
   "execution_count": 29,
   "metadata": {},
   "outputs": [],
   "source": [
    "scaler = StandardScaler()\n",
    "scaler.fit(X_train)\n",
    "X_train_scaled = scaler.transform(X_train) "
   ]
  },
  {
   "cell_type": "markdown",
   "metadata": {},
   "source": [
    "### Hacemos clustering"
   ]
  },
  {
   "cell_type": "code",
   "execution_count": 30,
   "metadata": {},
   "outputs": [],
   "source": [
    "kmeans = KMeans(n_clusters=10, random_state=0).fit(X_train_scaled)\n",
    "\n",
    "label = kmeans.labels_"
   ]
  },
  {
   "cell_type": "markdown",
   "metadata": {},
   "source": [
    "### Pegamos la información como si fuera otro feature"
   ]
  },
  {
   "cell_type": "code",
   "execution_count": 31,
   "metadata": {},
   "outputs": [],
   "source": [
    "X_train_scaled = np.c_[X_train_scaled,label]"
   ]
  },
  {
   "cell_type": "markdown",
   "metadata": {},
   "source": [
    "#### Comparamos con el desempeño de nuestro arbol de la tarea pasada"
   ]
  },
  {
   "cell_type": "code",
   "execution_count": 32,
   "metadata": {},
   "outputs": [
    {
     "data": {
      "text/plain": [
       "DecisionTreeRegressor(criterion='mse', max_depth=None, max_features=None,\n",
       "           max_leaf_nodes=None, min_impurity_decrease=0.0,\n",
       "           min_impurity_split=None, min_samples_leaf=1,\n",
       "           min_samples_split=2, min_weight_fraction_leaf=0.0,\n",
       "           presort=False, random_state=None, splitter='best')"
      ]
     },
     "execution_count": 32,
     "metadata": {},
     "output_type": "execute_result"
    }
   ],
   "source": [
    "model_tree = tree.DecisionTreeRegressor()\n",
    "model_tree.fit(X_train_scaled,y_train)\n"
   ]
  },
  {
   "cell_type": "markdown",
   "metadata": {},
   "source": [
    "### Desempeño "
   ]
  },
  {
   "cell_type": "code",
   "execution_count": 49,
   "metadata": {},
   "outputs": [],
   "source": [
    "X_test_scaled = scaler.transform(X_test)"
   ]
  },
  {
   "cell_type": "code",
   "execution_count": 50,
   "metadata": {},
   "outputs": [
    {
     "data": {
      "text/plain": [
       "array([[ 0.        , -0.33561336, -0.47201486, ..., -0.50336297,\n",
       "        -0.20319964,  8.        ],\n",
       "       [ 0.        , -0.33561336,  1.20335803, ..., -0.50336297,\n",
       "        -0.20319964,  2.        ],\n",
       "       [ 0.        , -0.33561336, -0.26259325, ..., -0.50336297,\n",
       "        -0.20319964,  4.        ],\n",
       "       ..., \n",
       "       [ 0.        , -0.33561336, -0.89085808, ..., -0.25832143,\n",
       "        -0.20319964,  4.        ],\n",
       "       [ 0.        , -0.33561336,  0.36567159, ..., -0.50336297,\n",
       "        -0.20319964,  9.        ],\n",
       "       [ 0.        , -0.33561336, -0.47201486, ...,  3.17225999,\n",
       "         2.39860564,  6.        ]])"
      ]
     },
     "execution_count": 50,
     "metadata": {},
     "output_type": "execute_result"
    }
   ],
   "source": [
    "X_test_scaled = np.c_[X_test_scaled,kmeans.predict(X_test_scaled)]\n",
    "X_test_scaled"
   ]
  },
  {
   "cell_type": "code",
   "execution_count": 51,
   "metadata": {},
   "outputs": [
    {
     "data": {
      "text/plain": [
       "array([[41,  0,  0,  0,  0,  1,  1,  0,  2,  0],\n",
       "       [ 0, 33,  2,  1,  0,  0,  2,  1,  0,  1],\n",
       "       [ 0,  0, 35,  0,  0,  0,  2,  0,  3,  0],\n",
       "       [ 0,  0,  2, 30,  0,  3,  0,  4,  2,  2],\n",
       "       [ 0,  0,  0,  0, 43,  1,  0,  0,  1,  0],\n",
       "       [ 0,  1,  0,  0,  1, 37,  3,  1,  0,  2],\n",
       "       [ 0,  1,  0,  0,  1,  2, 43,  0,  0,  0],\n",
       "       [ 0,  0,  2,  0,  0,  1,  1, 35,  4,  1],\n",
       "       [ 0,  1,  5,  4,  0,  2,  1,  3, 37,  2],\n",
       "       [ 0,  0,  1,  1,  0,  0,  0,  1,  3, 40]])"
      ]
     },
     "execution_count": 51,
     "metadata": {},
     "output_type": "execute_result"
    }
   ],
   "source": [
    "y_pred = model_tree.predict(X_test_scaled)\n",
    "confusion_matrix(y_true=y_test,y_pred=y_pred)"
   ]
  },
  {
   "cell_type": "code",
   "execution_count": 52,
   "metadata": {},
   "outputs": [
    {
     "name": "stdout",
     "output_type": "stream",
     "text": [
      "             precision    recall  f1-score   support\n",
      "\n",
      "          0       1.00      0.91      0.95        45\n",
      "          1       0.92      0.82      0.87        40\n",
      "          2       0.74      0.88      0.80        40\n",
      "          3       0.83      0.70      0.76        43\n",
      "          4       0.96      0.96      0.96        45\n",
      "          5       0.79      0.82      0.80        45\n",
      "          6       0.81      0.91      0.86        47\n",
      "          7       0.78      0.80      0.79        44\n",
      "          8       0.71      0.67      0.69        55\n",
      "          9       0.83      0.87      0.85        46\n",
      "\n",
      "avg / total       0.83      0.83      0.83       450\n",
      "\n"
     ]
    }
   ],
   "source": [
    "print(classification_report(y_test,y_pred))"
   ]
  },
  {
   "cell_type": "code",
   "execution_count": null,
   "metadata": {},
   "outputs": [],
   "source": []
  }
 ],
 "metadata": {
  "kernelspec": {
   "display_name": "Python 3",
   "language": "python",
   "name": "python3"
  },
  "language_info": {
   "codemirror_mode": {
    "name": "ipython",
    "version": 3
   },
   "file_extension": ".py",
   "mimetype": "text/x-python",
   "name": "python",
   "nbconvert_exporter": "python",
   "pygments_lexer": "ipython3",
   "version": "3.5.2"
  }
 },
 "nbformat": 4,
 "nbformat_minor": 2
}
